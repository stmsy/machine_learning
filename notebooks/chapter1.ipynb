{
 "cells": [
  {
   "cell_type": "markdown",
   "id": "19d6e6f8",
   "metadata": {
    "collapsed": false
   },
   "source": [
    "# Chapter 1\n",
    "\n",
    "Implement a perceptron and adaptive linear classifier for the Iris dataset."
   ]
  },
  {
   "cell_type": "code",
   "execution_count": 1,
   "id": "e3d07cec",
   "metadata": {
    "collapsed": false
   },
   "outputs": [],
   "source": [
    "from dataclasses import dataclass, field\n",
    "import warnings\n",
    "from typing import List, Union\n",
    "\n",
    "warnings.simplefilter('ignore')\n",
    "\n",
    "import japanize_matplotlib\n",
    "import matplotlib.pyplot as plt\n",
    "import numpy as np\n",
    "from numpy import ndarray\n",
    "from numpy.random import RandomState\n",
    "import pandas as pd\n",
    "from pandas.core.frame import DataFrame\n",
    "from pandas.core.series import Series\n",
    "\n",
    "%matplotlib inline"
   ]
  },
  {
   "cell_type": "code",
   "execution_count": 2,
   "id": "a3268767",
   "metadata": {
    "collapsed": false
   },
   "outputs": [],
   "source": [
    "URL = 'https://archive.ics.uci.edu/ml/machine-learning-databases/iris/iris.data'"
   ]
  },
  {
   "cell_type": "code",
   "execution_count": 3,
   "id": "66c036e1",
   "metadata": {
    "collapsed": false
   },
   "outputs": [
    {
     "data": {
      "text/html": [
       "<div>\n",
       "<style scoped>\n",
       "    .dataframe tbody tr th:only-of-type {\n",
       "        vertical-align: middle;\n",
       "    }\n",
       "\n",
       "    .dataframe tbody tr th {\n",
       "        vertical-align: top;\n",
       "    }\n",
       "\n",
       "    .dataframe thead th {\n",
       "        text-align: right;\n",
       "    }\n",
       "</style>\n",
       "<table border=\"1\" class=\"dataframe\">\n",
       "  <thead>\n",
       "    <tr style=\"text-align: right;\">\n",
       "      <th></th>\n",
       "      <th>sepal_length</th>\n",
       "      <th>sepal_width</th>\n",
       "      <th>petal_length</th>\n",
       "      <th>petal_width</th>\n",
       "      <th>class_label</th>\n",
       "    </tr>\n",
       "  </thead>\n",
       "  <tbody>\n",
       "    <tr>\n",
       "      <th>0</th>\n",
       "      <td>5.1</td>\n",
       "      <td>3.5</td>\n",
       "      <td>1.4</td>\n",
       "      <td>0.2</td>\n",
       "      <td>Iris-setosa</td>\n",
       "    </tr>\n",
       "    <tr>\n",
       "      <th>1</th>\n",
       "      <td>4.9</td>\n",
       "      <td>3.0</td>\n",
       "      <td>1.4</td>\n",
       "      <td>0.2</td>\n",
       "      <td>Iris-setosa</td>\n",
       "    </tr>\n",
       "    <tr>\n",
       "      <th>2</th>\n",
       "      <td>4.7</td>\n",
       "      <td>3.2</td>\n",
       "      <td>1.3</td>\n",
       "      <td>0.2</td>\n",
       "      <td>Iris-setosa</td>\n",
       "    </tr>\n",
       "    <tr>\n",
       "      <th>3</th>\n",
       "      <td>4.6</td>\n",
       "      <td>3.1</td>\n",
       "      <td>1.5</td>\n",
       "      <td>0.2</td>\n",
       "      <td>Iris-setosa</td>\n",
       "    </tr>\n",
       "    <tr>\n",
       "      <th>4</th>\n",
       "      <td>5.0</td>\n",
       "      <td>3.6</td>\n",
       "      <td>1.4</td>\n",
       "      <td>0.2</td>\n",
       "      <td>Iris-setosa</td>\n",
       "    </tr>\n",
       "  </tbody>\n",
       "</table>\n",
       "</div>"
      ],
      "text/plain": [
       "   sepal_length  sepal_width  petal_length  petal_width  class_label\n",
       "0           5.1          3.5           1.4          0.2  Iris-setosa\n",
       "1           4.9          3.0           1.4          0.2  Iris-setosa\n",
       "2           4.7          3.2           1.3          0.2  Iris-setosa\n",
       "3           4.6          3.1           1.5          0.2  Iris-setosa\n",
       "4           5.0          3.6           1.4          0.2  Iris-setosa"
      ]
     },
     "execution_count": 3,
     "metadata": {},
     "output_type": "execute_result"
    }
   ],
   "source": [
    "names = [\n",
    "    'sepal_length',\n",
    "    'sepal_width',\n",
    "    'petal_length',\n",
    "    'petal_width',\n",
    "    'class_label'\n",
    "]\n",
    "dtype = {\n",
    "    'sepal_length': 'float',\n",
    "    'sepal_width': 'float',\n",
    "    'petal_length': 'float',\n",
    "    'petal_width': 'float',\n",
    "    'class_label': 'string'\n",
    "}\n",
    "df_iris = pd.read_csv(URL, header=None, names=names, dtype=dtype, encoding='utf-8')\n",
    "\n",
    "df_iris.head()"
   ]
  },
  {
   "cell_type": "markdown",
   "id": "b5b47cf9",
   "metadata": {
    "collapsed": false
   },
   "source": [
    "Slice the sub-dataframe of instances labeled with `Iris-setosa` from the original dataset `df_iris` by\n",
    "using the `.query` method. Show the descriptive statistics with `.describe` method."
   ]
  },
  {
   "cell_type": "code",
   "execution_count": 4,
   "id": "11df9e79",
   "metadata": {
    "collapsed": false
   },
   "outputs": [
    {
     "data": {
      "text/html": [
       "<div>\n",
       "<style scoped>\n",
       "    .dataframe tbody tr th:only-of-type {\n",
       "        vertical-align: middle;\n",
       "    }\n",
       "\n",
       "    .dataframe tbody tr th {\n",
       "        vertical-align: top;\n",
       "    }\n",
       "\n",
       "    .dataframe thead th {\n",
       "        text-align: right;\n",
       "    }\n",
       "</style>\n",
       "<table border=\"1\" class=\"dataframe\">\n",
       "  <thead>\n",
       "    <tr style=\"text-align: right;\">\n",
       "      <th></th>\n",
       "      <th>sepal_length</th>\n",
       "      <th>sepal_width</th>\n",
       "      <th>petal_length</th>\n",
       "      <th>petal_width</th>\n",
       "      <th>class_label</th>\n",
       "    </tr>\n",
       "  </thead>\n",
       "  <tbody>\n",
       "    <tr>\n",
       "      <th>count</th>\n",
       "      <td>50.00000</td>\n",
       "      <td>50.000000</td>\n",
       "      <td>50.000000</td>\n",
       "      <td>50.00000</td>\n",
       "      <td>50</td>\n",
       "    </tr>\n",
       "    <tr>\n",
       "      <th>unique</th>\n",
       "      <td>NaN</td>\n",
       "      <td>NaN</td>\n",
       "      <td>NaN</td>\n",
       "      <td>NaN</td>\n",
       "      <td>1</td>\n",
       "    </tr>\n",
       "    <tr>\n",
       "      <th>top</th>\n",
       "      <td>NaN</td>\n",
       "      <td>NaN</td>\n",
       "      <td>NaN</td>\n",
       "      <td>NaN</td>\n",
       "      <td>Iris-setosa</td>\n",
       "    </tr>\n",
       "    <tr>\n",
       "      <th>freq</th>\n",
       "      <td>NaN</td>\n",
       "      <td>NaN</td>\n",
       "      <td>NaN</td>\n",
       "      <td>NaN</td>\n",
       "      <td>50</td>\n",
       "    </tr>\n",
       "    <tr>\n",
       "      <th>mean</th>\n",
       "      <td>5.00600</td>\n",
       "      <td>3.418000</td>\n",
       "      <td>1.464000</td>\n",
       "      <td>0.24400</td>\n",
       "      <td>NaN</td>\n",
       "    </tr>\n",
       "    <tr>\n",
       "      <th>std</th>\n",
       "      <td>0.35249</td>\n",
       "      <td>0.381024</td>\n",
       "      <td>0.173511</td>\n",
       "      <td>0.10721</td>\n",
       "      <td>NaN</td>\n",
       "    </tr>\n",
       "    <tr>\n",
       "      <th>min</th>\n",
       "      <td>4.30000</td>\n",
       "      <td>2.300000</td>\n",
       "      <td>1.000000</td>\n",
       "      <td>0.10000</td>\n",
       "      <td>NaN</td>\n",
       "    </tr>\n",
       "    <tr>\n",
       "      <th>25%</th>\n",
       "      <td>4.80000</td>\n",
       "      <td>3.125000</td>\n",
       "      <td>1.400000</td>\n",
       "      <td>0.20000</td>\n",
       "      <td>NaN</td>\n",
       "    </tr>\n",
       "    <tr>\n",
       "      <th>50%</th>\n",
       "      <td>5.00000</td>\n",
       "      <td>3.400000</td>\n",
       "      <td>1.500000</td>\n",
       "      <td>0.20000</td>\n",
       "      <td>NaN</td>\n",
       "    </tr>\n",
       "    <tr>\n",
       "      <th>75%</th>\n",
       "      <td>5.20000</td>\n",
       "      <td>3.675000</td>\n",
       "      <td>1.575000</td>\n",
       "      <td>0.30000</td>\n",
       "      <td>NaN</td>\n",
       "    </tr>\n",
       "    <tr>\n",
       "      <th>max</th>\n",
       "      <td>5.80000</td>\n",
       "      <td>4.400000</td>\n",
       "      <td>1.900000</td>\n",
       "      <td>0.60000</td>\n",
       "      <td>NaN</td>\n",
       "    </tr>\n",
       "  </tbody>\n",
       "</table>\n",
       "</div>"
      ],
      "text/plain": [
       "        sepal_length  sepal_width  petal_length  petal_width  class_label\n",
       "count       50.00000    50.000000     50.000000     50.00000           50\n",
       "unique           NaN          NaN           NaN          NaN            1\n",
       "top              NaN          NaN           NaN          NaN  Iris-setosa\n",
       "freq             NaN          NaN           NaN          NaN           50\n",
       "mean         5.00600     3.418000      1.464000      0.24400          NaN\n",
       "std          0.35249     0.381024      0.173511      0.10721          NaN\n",
       "min          4.30000     2.300000      1.000000      0.10000          NaN\n",
       "25%          4.80000     3.125000      1.400000      0.20000          NaN\n",
       "50%          5.00000     3.400000      1.500000      0.20000          NaN\n",
       "75%          5.20000     3.675000      1.575000      0.30000          NaN\n",
       "max          5.80000     4.400000      1.900000      0.60000          NaN"
      ]
     },
     "execution_count": 4,
     "metadata": {},
     "output_type": "execute_result"
    }
   ],
   "source": [
    "df_iris_setosa = df_iris.query(\"class_label == 'Iris-setosa'\")\n",
    "\n",
    "df_iris_setosa.describe(include='all')"
   ]
  },
  {
   "cell_type": "markdown",
   "id": "c1bdf502",
   "metadata": {
    "collapsed": false
   },
   "source": [
    "Also, retrieve a collection of instances labeled with `Iris-versicolor` and check its descriptive\n",
    "statistics."
   ]
  },
  {
   "cell_type": "code",
   "execution_count": 5,
   "id": "9c5d9d44",
   "metadata": {
    "collapsed": false
   },
   "outputs": [
    {
     "data": {
      "text/html": [
       "<div>\n",
       "<style scoped>\n",
       "    .dataframe tbody tr th:only-of-type {\n",
       "        vertical-align: middle;\n",
       "    }\n",
       "\n",
       "    .dataframe tbody tr th {\n",
       "        vertical-align: top;\n",
       "    }\n",
       "\n",
       "    .dataframe thead th {\n",
       "        text-align: right;\n",
       "    }\n",
       "</style>\n",
       "<table border=\"1\" class=\"dataframe\">\n",
       "  <thead>\n",
       "    <tr style=\"text-align: right;\">\n",
       "      <th></th>\n",
       "      <th>sepal_length</th>\n",
       "      <th>sepal_width</th>\n",
       "      <th>petal_length</th>\n",
       "      <th>petal_width</th>\n",
       "      <th>class_label</th>\n",
       "    </tr>\n",
       "  </thead>\n",
       "  <tbody>\n",
       "    <tr>\n",
       "      <th>count</th>\n",
       "      <td>50.000000</td>\n",
       "      <td>50.000000</td>\n",
       "      <td>50.000000</td>\n",
       "      <td>50.000000</td>\n",
       "      <td>50</td>\n",
       "    </tr>\n",
       "    <tr>\n",
       "      <th>unique</th>\n",
       "      <td>NaN</td>\n",
       "      <td>NaN</td>\n",
       "      <td>NaN</td>\n",
       "      <td>NaN</td>\n",
       "      <td>1</td>\n",
       "    </tr>\n",
       "    <tr>\n",
       "      <th>top</th>\n",
       "      <td>NaN</td>\n",
       "      <td>NaN</td>\n",
       "      <td>NaN</td>\n",
       "      <td>NaN</td>\n",
       "      <td>Iris-versicolor</td>\n",
       "    </tr>\n",
       "    <tr>\n",
       "      <th>freq</th>\n",
       "      <td>NaN</td>\n",
       "      <td>NaN</td>\n",
       "      <td>NaN</td>\n",
       "      <td>NaN</td>\n",
       "      <td>50</td>\n",
       "    </tr>\n",
       "    <tr>\n",
       "      <th>mean</th>\n",
       "      <td>5.936000</td>\n",
       "      <td>2.770000</td>\n",
       "      <td>4.260000</td>\n",
       "      <td>1.326000</td>\n",
       "      <td>NaN</td>\n",
       "    </tr>\n",
       "    <tr>\n",
       "      <th>std</th>\n",
       "      <td>0.516171</td>\n",
       "      <td>0.313798</td>\n",
       "      <td>0.469911</td>\n",
       "      <td>0.197753</td>\n",
       "      <td>NaN</td>\n",
       "    </tr>\n",
       "    <tr>\n",
       "      <th>min</th>\n",
       "      <td>4.900000</td>\n",
       "      <td>2.000000</td>\n",
       "      <td>3.000000</td>\n",
       "      <td>1.000000</td>\n",
       "      <td>NaN</td>\n",
       "    </tr>\n",
       "    <tr>\n",
       "      <th>25%</th>\n",
       "      <td>5.600000</td>\n",
       "      <td>2.525000</td>\n",
       "      <td>4.000000</td>\n",
       "      <td>1.200000</td>\n",
       "      <td>NaN</td>\n",
       "    </tr>\n",
       "    <tr>\n",
       "      <th>50%</th>\n",
       "      <td>5.900000</td>\n",
       "      <td>2.800000</td>\n",
       "      <td>4.350000</td>\n",
       "      <td>1.300000</td>\n",
       "      <td>NaN</td>\n",
       "    </tr>\n",
       "    <tr>\n",
       "      <th>75%</th>\n",
       "      <td>6.300000</td>\n",
       "      <td>3.000000</td>\n",
       "      <td>4.600000</td>\n",
       "      <td>1.500000</td>\n",
       "      <td>NaN</td>\n",
       "    </tr>\n",
       "    <tr>\n",
       "      <th>max</th>\n",
       "      <td>7.000000</td>\n",
       "      <td>3.400000</td>\n",
       "      <td>5.100000</td>\n",
       "      <td>1.800000</td>\n",
       "      <td>NaN</td>\n",
       "    </tr>\n",
       "  </tbody>\n",
       "</table>\n",
       "</div>"
      ],
      "text/plain": [
       "        sepal_length  sepal_width  petal_length  petal_width      class_label\n",
       "count      50.000000    50.000000     50.000000    50.000000               50\n",
       "unique           NaN          NaN           NaN          NaN                1\n",
       "top              NaN          NaN           NaN          NaN  Iris-versicolor\n",
       "freq             NaN          NaN           NaN          NaN               50\n",
       "mean        5.936000     2.770000      4.260000     1.326000              NaN\n",
       "std         0.516171     0.313798      0.469911     0.197753              NaN\n",
       "min         4.900000     2.000000      3.000000     1.000000              NaN\n",
       "25%         5.600000     2.525000      4.000000     1.200000              NaN\n",
       "50%         5.900000     2.800000      4.350000     1.300000              NaN\n",
       "75%         6.300000     3.000000      4.600000     1.500000              NaN\n",
       "max         7.000000     3.400000      5.100000     1.800000              NaN"
      ]
     },
     "execution_count": 5,
     "metadata": {},
     "output_type": "execute_result"
    }
   ],
   "source": [
    "df_iris_versicolor = df_iris.query(\"class_label == 'Iris-versicolor'\")\n",
    "\n",
    "df_iris_versicolor.describe(include='all')"
   ]
  },
  {
   "cell_type": "markdown",
   "id": "140b2841",
   "metadata": {
    "collapsed": false
   },
   "source": [
    "Below is the scatter plot of `sepal_length` and `petal_length` for Setosa and Versicolor."
   ]
  },
  {
   "cell_type": "code",
   "execution_count": 6,
   "id": "7271755a",
   "metadata": {
    "collapsed": false
   },
   "outputs": [
    {
     "data": {
      "image/png": "[encoded data removed]",
      "text/plain": [
       "<Figure size 1296x720 with 1 Axes>"
      ]
     },
     "metadata": {
      "needs_background": "light"
     },
     "output_type": "display_data"
    }
   ],
   "source": [
    "fig, ax = plt.subplots(1, 1, figsize=(18, 10))\n",
    "ax.scatter(df_iris_setosa['sepal_length'], df_iris_setosa['petal_length'],\n",
    "           color='red', marker='o', label='setosa', alpha=0.5)\n",
    "ax.scatter(df_iris_versicolor['sepal_length'], df_iris_versicolor['petal_length'],\n",
    "           color='blue', marker='x', label='versicolor', alpha=0.5)\n",
    "ax.set_xlim([0.0, 8.0])\n",
    "ax.set_ylim([0.0, 6.0])\n",
    "ax.grid()\n",
    "ax.legend()\n",
    "ax.set_xlabel(\"sepal length [cm]\")\n",
    "ax.set_ylabel(\"petal length [cm]\")\n",
    "ax.set_title(\"Scatter Plot for Setosa and Versicolor\")\n",
    "fig.show()"
   ]
  },
  {
   "cell_type": "markdown",
   "id": "f723d9d6",
   "metadata": {
    "collapsed": false
   },
   "source": [
    "Likewise, the scatter plot of `sepal_width` and `petal_width`."
   ]
  },
  {
   "cell_type": "code",
   "execution_count": 7,
   "id": "e260b23f",
   "metadata": {
    "collapsed": false
   },
   "outputs": [
    {
     "data": {
      "image/png": "[encoded data removed]",
      "text/plain": [
       "<Figure size 1296x720 with 1 Axes>"
      ]
     },
     "metadata": {
      "needs_background": "light"
     },
     "output_type": "display_data"
    }
   ],
   "source": [
    "fig, ax = plt.subplots(1, 1, figsize=(18, 10))\n",
    "ax.scatter(df_iris_setosa['sepal_width'], df_iris_setosa['petal_width'],\n",
    "           color='red', marker='o', label='setosa', alpha=0.5)\n",
    "ax.scatter(df_iris_versicolor['sepal_width'], df_iris_versicolor['petal_width'],\n",
    "           color='blue', marker='x', label='versicolor', alpha=0.5)\n",
    "ax.set_xlim([0.0, 8.0])\n",
    "ax.set_ylim([0.0, 6.0])\n",
    "ax.grid()\n",
    "ax.legend()\n",
    "ax.set_xlabel(\"sepal width [cm]\")\n",
    "ax.set_ylabel(\"petal width [cm]\")\n",
    "ax.set_title(\"Scatter Plot for Setosa and Versicolor\")\n",
    "fig.show()"
   ]
  },
  {
   "cell_type": "code",
   "execution_count": 20,
   "id": "1d3e3ed1",
   "metadata": {
    "collapsed": false
   },
   "outputs": [],
   "source": [
    "@dataclass\n",
    "class Perceptron:\n",
    "    \"\"\"A simple perceptron as a binary classifier.\n",
    "\n",
    "    Args:\n",
    "      eta (float): A learning rate selected between 0.0 and 1.0.\n",
    "      num_iter (int): The number of iteration for tranining.\n",
    "      seed (int): A random state seed set to a random number generator for weight initialization.\n",
    "\n",
    "    Attrs:\n",
    "      w_ (ndarray): An array of weights/bias obtained after training.\n",
    "      errors_ (ndarray): A collection of errors computed at each epoch.\n",
    "    \"\"\"\n",
    "    # Once defined, the following params are not expected to be modified.\n",
    "    eta: float = 0.01\n",
    "    num_iters: int = 50\n",
    "    seed: int = 42\n",
    "    rs: RandomState = RandomState(seed)\n",
    "\n",
    "    def fit(self, X: Union[DataFrame, ndarray], y: Union[DataFrame, Series, ndarray]) -> None:\n",
    "        \"\"\"Fit the perceptron model to the input traning data.\n",
    "\n",
    "        Args:\n",
    "          X (Union[DataFrame, ndarray]): A collection of training samples, where X.shape[0] is\n",
    "                                         the number of instances and X.shape[1] the number of\n",
    "                                         features.\n",
    "          y (Union[DataFame, Series, ndarray]): A one-dimensional array of target values.\n",
    "        \"\"\"\n",
    "        if isinstance(X, DataFrame):\n",
    "            X: ndarray = X.values\n",
    "        if isinstance(y, DataFrame) or isinstance(y, Series):\n",
    "            y: ndarray = y.values\n",
    "\n",
    "        # Initialize the training weights with random numbers from the normal distribution with\n",
    "        # mean 0.0 and standard deviation 0.01\n",
    "        loc: float = 0.0\n",
    "        scale: float = 0.01\n",
    "        size: int = 1 + X.shape[1]\n",
    "        self.w_: ndarray = self.rs.normal(loc=loc, scale=scale, size=size)\n",
    "\n",
    "        # Perform fitting on training samples and measure errors\n",
    "        self.errors_: ndarray = np.empty(shape=(self.num_iters,))\n",
    "        for i in range(self.num_iters):\n",
    "            error_: int = 0\n",
    "            for xi, target in zip(X, y):\n",
    "                coeff_: float = self.eta * (target - self.predict(xi))\n",
    "                self.w_[1:] += coeff_ * xi\n",
    "                self.w_[0] += coeff_\n",
    "                error_ += int(coeff_ != 0.0)\n",
    "            self.errors_[i] = error_\n",
    "\n",
    "        # Make weights and errors immutable\n",
    "        self.w_.setflags(write=False)\n",
    "        self.errors_.setflags(write=False)\n",
    "\n",
    "    def evaluate(self, X: Union[DataFrame, ndarray]) -> ndarray:\n",
    "        \"\"\"Evaluate the perceptron with given inputs and weights/bias.\n",
    "\n",
    "        Arg:\n",
    "          X (Union[DataFrame, ndarray]): A collection of instances with features to be\n",
    "                                         evaluated.\n",
    "\n",
    "        Return:\n",
    "          _ (ndarray): The computed vector, X multiplied by w (matrix multiplication),\n",
    "                       added by a bias term.\n",
    "        \"\"\"\n",
    "        if isinstance(X, DataFrame):\n",
    "            X: ndarray = X.values\n",
    "        return np.dot(X, self.w_[1:]) + self.w_[0]\n",
    "\n",
    "    def predict(self, X: Union[DataFrame, ndarray]) -> ndarray:\n",
    "        \"\"\"Return class labels from the given inputs.\n",
    "\n",
    "        Arg:\n",
    "          X (Union[DataFrame, ndarray]): A collection of instances with features to be\n",
    "                                         predicted.\n",
    "\n",
    "        Return:\n",
    "          _ (ndarray): A collection of predicted class labels 1 or -1.\n",
    "        \"\"\"\n",
    "        return np.where(self.evaluate(X) >= 0.0, 1, -1)"
   ]
  },
  {
   "cell_type": "code",
   "execution_count": 9,
   "id": "dcc2f334",
   "metadata": {
    "collapsed": false
   },
   "outputs": [],
   "source": [
    "clf = Perceptron()"
   ]
  },
  {
   "cell_type": "code",
   "execution_count": 10,
   "id": "290a6758",
   "metadata": {
    "collapsed": false
   },
   "outputs": [
    {
     "data": {
      "text/plain": [
       "0.001"
      ]
     },
     "execution_count": 10,
     "metadata": {},
     "output_type": "execute_result"
    }
   ],
   "source": [
    "clf.eta"
   ]
  },
  {
   "cell_type": "code",
   "execution_count": 11,
   "id": "619521a1",
   "metadata": {
    "collapsed": false
   },
   "outputs": [],
   "source": [
    "features = [\n",
    "    df_iris_setosa[['sepal_length', 'petal_length']],\n",
    "    df_iris_versicolor[['sepal_length', 'petal_length']]\n",
    "]\n",
    "X = pd.concat(features)"
   ]
  },
  {
   "cell_type": "code",
   "execution_count": 12,
   "id": "ac8109d5",
   "metadata": {
    "collapsed": false
   },
   "outputs": [],
   "source": [
    "targets = [\n",
    "    df_iris_setosa[['class_label']],\n",
    "    df_iris_versicolor[['class_label']]\n",
    "]\n",
    "y = pd.concat(targets)\n",
    "y = y.applymap(lambda x: 1 if x == 'Iris-setosa' else -1)"
   ]
  },
  {
   "cell_type": "code",
   "execution_count": 13,
   "id": "d01eaa03",
   "metadata": {
    "collapsed": false
   },
   "outputs": [
    {
     "ename": "AttributeError",
     "evalue": "'Perceptron' object has no attribute 'w_'",
     "output_type": "error",
     "traceback": [
      "\u001b[0;31m---------------------------------------------------------------------------\u001b[0m",
      "\u001b[0;31mAttributeError\u001b[0m                            Traceback (most recent call last)",
      "Input \u001b[0;32mIn [13]\u001b[0m, in \u001b[0;36m<cell line: 1>\u001b[0;34m()\u001b[0m\n\u001b[0;32m----> 1\u001b[0m \u001b[43mclf\u001b[49m\u001b[38;5;241;43m.\u001b[39;49m\u001b[43mw_\u001b[49m\n",
      "\u001b[0;31mAttributeError\u001b[0m: 'Perceptron' object has no attribute 'w_'"
     ]
    }
   ],
   "source": [
    "clf.w_"
   ]
  },
  {
   "cell_type": "code",
   "execution_count": 14,
   "id": "af315b0b",
   "metadata": {
    "collapsed": false
   },
   "outputs": [],
   "source": [
    "clf.fit(X, y)"
   ]
  },
  {
   "cell_type": "code",
   "execution_count": 18,
   "id": "6d4950d5",
   "metadata": {
    "collapsed": false
   },
   "outputs": [
    {
     "data": {
      "text/plain": [
       "array([ 0.0056433 ,  0.00547983,  0.00570867,  0.00484231,  0.00556157,\n",
       "        0.00471157,  0.00523462,  0.00516925,  0.00507115,  0.00508752,\n",
       "        0.0054962 ,  0.00461347,  0.00539809,  0.00616635,  0.00700007,\n",
       "        0.0057414 ,  0.00628082,  0.0056433 ,  0.00495678,  0.00525099,\n",
       "        0.00471157,  0.00525099,  0.00680387,  0.00446637,  0.00343654,\n",
       "        0.00477694,  0.00477694,  0.00533273,  0.00572504,  0.00453174,\n",
       "        0.00461347,  0.0054962 ,  0.00533273,  0.00597024,  0.00508752,\n",
       "        0.00634619,  0.00636256,  0.00508752,  0.00546346,  0.00525099,\n",
       "        0.00595388,  0.0055452 ,  0.00546346,  0.00477694,  0.00368174,\n",
       "        0.00539809,  0.00485868,  0.00523462,  0.00541446,  0.00556157,\n",
       "       -0.00575   , -0.00545579, -0.00661636, -0.00422985, -0.00576637,\n",
       "       -0.00602794, -0.00632215, -0.00197409, -0.00568463, -0.00408275,\n",
       "       -0.00267697, -0.00468753, -0.00382118, -0.00648562, -0.00257887,\n",
       "       -0.00481827, -0.00610968, -0.00437696, -0.00561926, -0.00375581,\n",
       "       -0.0070414 , -0.00373944, -0.00710677, -0.00648562, -0.00467117,\n",
       "       -0.00490001, -0.00630578, -0.00717214, -0.00578273, -0.00210482,\n",
       "       -0.00344523, -0.00305292, -0.00359233, -0.0081366 , -0.00627315,\n",
       "       -0.00578273, -0.00599521, -0.00514521, -0.00454043, -0.00422985,\n",
       "       -0.0057991 , -0.00609331, -0.00398465, -0.00189235, -0.00493274,\n",
       "       -0.00485101, -0.00485101, -0.00483464, -0.00063368, -0.00445869])"
      ]
     },
     "execution_count": 18,
     "metadata": {},
     "output_type": "execute_result"
    }
   ],
   "source": [
    "clf.evaluate(X)"
   ]
  },
  {
   "cell_type": "code",
   "execution_count": 16,
   "id": "a4894f6d",
   "metadata": {
    "collapsed": false
   },
   "outputs": [
    {
     "data": {
      "text/plain": [
       "array([ 1,  1,  1,  1,  1,  1,  1,  1,  1,  1,  1,  1,  1,  1,  1,  1,  1,\n",
       "        1,  1,  1,  1,  1,  1,  1,  1,  1,  1,  1,  1,  1,  1,  1,  1,  1,\n",
       "        1,  1,  1,  1,  1,  1,  1,  1,  1,  1,  1,  1,  1,  1,  1,  1, -1,\n",
       "       -1, -1, -1, -1, -1, -1, -1, -1, -1, -1, -1, -1, -1, -1, -1, -1, -1,\n",
       "       -1, -1, -1, -1, -1, -1, -1, -1, -1, -1, -1, -1, -1, -1, -1, -1, -1,\n",
       "       -1, -1, -1, -1, -1, -1, -1, -1, -1, -1, -1, -1, -1, -1, -1])"
      ]
     },
     "execution_count": 16,
     "metadata": {},
     "output_type": "execute_result"
    }
   ],
   "source": [
    "clf.predict(X)"
   ]
  },
  {
   "cell_type": "code",
   "execution_count": 17,
   "id": "053edc92",
   "metadata": {
    "collapsed": false
   },
   "outputs": [
    {
     "data": {
      "text/plain": [
       "(1000,)"
      ]
     },
     "execution_count": 17,
     "metadata": {},
     "output_type": "execute_result"
    }
   ],
   "source": [
    "clf.errors_.shape"
   ]
  }
 ],
 "metadata": {
  "kernelspec": {
   "argv": [
    "python",
    "-m",
    "ipykernel_launcher",
    "-f",
    "{connection_file}"
   ],
   "display_name": "Python 3 (ipykernel)",
   "env": null,
   "interrupt_mode": "signal",
   "language": "python",
   "metadata": {
    "debugger": true
   },
   "name": "python3"
  },
  "name": "chapter1.ipynb"
 },
 "nbformat": 4,
 "nbformat_minor": 5
}
